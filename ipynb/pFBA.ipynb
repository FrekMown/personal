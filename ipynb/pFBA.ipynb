{
 "cells": [
  {
   "cell_type": "code",
   "execution_count": 39,
   "metadata": {},
   "outputs": [],
   "source": [
    "import cobra\n",
    "import escher\n",
    "import json"
   ]
  },
  {
   "cell_type": "code",
   "execution_count": 40,
   "metadata": {},
   "outputs": [],
   "source": [
    "model_path = \"/media/frek/Storage1/projects/personal/chemocobra/static/chemocobra/metabolic/models/iML1515_PKT.json\"\n",
    "model = cobra.io.load_json_model(model_path)"
   ]
  },
  {
   "cell_type": "code",
   "execution_count": 41,
   "metadata": {},
   "outputs": [
    {
     "name": "stdout",
     "output_type": "stream",
     "text": [
      "EX_acetone\n"
     ]
    }
   ],
   "source": [
    "for r in model.reactions:\n",
    "    if \"acetone\" in r.id.lower():\n",
    "        print(r.id)"
   ]
  },
  {
   "cell_type": "code",
   "execution_count": 43,
   "metadata": {},
   "outputs": [],
   "source": [
    "scen = {\n",
    "    \"bm-wt\": {\"objective\": \"BIOMASS_Ec_iML1515_WT_75p37M\", \"ko\": [\"FPK\", \"XPK\", \"DRPA\"]},\n",
    "    \"acetone-wt\": {\"objective\": \"EX_acetone\", \"ko\": [\"FPK\", \"XPK\", \"DRPA\"]},\n",
    "    \"bm-pkt\": {\"objective\": \"BIOMASS_Ec_iML1515_WT_75p37M\", \"ko\": [\"DRPA\", \"PPC\"]},\n",
    "    \"acetone-pkt\": {\"objective\": \"EX_acetone\", \"ko\": [\"DRPA\", \"PPC\"]}, \n",
    "}"
   ]
  },
  {
   "cell_type": "code",
   "execution_count": 65,
   "metadata": {},
   "outputs": [
    {
     "name": "stdout",
     "output_type": "stream",
     "text": [
      "/media/frek/Storage1/projects/personal/main/static/main/science/fluxes_pFBA_bm-wt.json\n",
      "/media/frek/Storage1/projects/personal/main/static/main/science/fluxes_pFBA_acetone-wt.json\n",
      "/media/frek/Storage1/projects/personal/main/static/main/science/fluxes_pFBA_bm-pkt.json\n",
      "/media/frek/Storage1/projects/personal/main/static/main/science/fluxes_pFBA_acetone-pkt.json\n"
     ]
    }
   ],
   "source": [
    "for s in scen:\n",
    "    outpath = '/media/frek/Storage1/projects/personal/main/static/main/science/fluxes_pFBA_{}.json'.format(s)\n",
    "    print(outpath)\n",
    "    model = cobra.io.load_json_model(model_path)\n",
    "    model.objective = scen[s][\"objective\"]\n",
    "    for r_id in scen[s][\"ko\"]:\n",
    "        r = model.reactions.get_by_id(r_id)\n",
    "        r.lower_bound = 0\n",
    "        r.upper_bound = 0\n",
    "    fluxes = cobra.flux_analysis.parsimonious.pfba(model).fluxes\n",
    "    fluxes.loc[fluxes.abs()<0.01] = 0\n",
    "    with open(outpath, 'x') as f:\n",
    "        json.dump(fluxes.to_dict(), f)"
   ]
  },
  {
   "cell_type": "code",
   "execution_count": 8,
   "metadata": {},
   "outputs": [],
   "source": [
    "df_res = cobra.flux_analysis.parsimonious.pfba(model).fluxes"
   ]
  },
  {
   "cell_type": "code",
   "execution_count": 27,
   "metadata": {},
   "outputs": [],
   "source": [
    "idx_zero = df_res[df_res.abs()<0.01].index\n",
    "df_res.loc[idx_zero] = 0"
   ]
  },
  {
   "cell_type": "code",
   "execution_count": null,
   "metadata": {},
   "outputs": [],
   "source": [
    "escher.Builder-"
   ]
  },
  {
   "cell_type": "code",
   "execution_count": 28,
   "metadata": {},
   "outputs": [],
   "source": [
    "outpath = '/media/frek/Storage1/projects/personal/main/static/main/docs/fluxes_pFBA.json'"
   ]
  },
  {
   "cell_type": "code",
   "execution_count": 29,
   "metadata": {},
   "outputs": [],
   "source": [
    "with open(outpath, 'w') as f:\n",
    "    json.dump(df_res.to_dict(), f)"
   ]
  },
  {
   "cell_type": "code",
   "execution_count": null,
   "metadata": {},
   "outputs": [],
   "source": []
  }
 ],
 "metadata": {
  "kernelspec": {
   "display_name": "Python 3",
   "language": "python",
   "name": "python3"
  },
  "language_info": {
   "codemirror_mode": {
    "name": "ipython",
    "version": 3
   },
   "file_extension": ".py",
   "mimetype": "text/x-python",
   "name": "python",
   "nbconvert_exporter": "python",
   "pygments_lexer": "ipython3",
   "version": "3.6.8"
  }
 },
 "nbformat": 4,
 "nbformat_minor": 2
}
