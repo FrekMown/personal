{
 "cells": [
  {
   "cell_type": "code",
   "execution_count": 1,
   "metadata": {},
   "outputs": [],
   "source": [
    "import cobra\n",
    "import escher\n",
    "from escher import Builder\n",
    "import json"
   ]
  },
  {
   "cell_type": "code",
   "execution_count": 26,
   "metadata": {},
   "outputs": [],
   "source": [
    "model_pkt_path = \"/media/frek/Storage1/projects/personal/chemocobra/static/chemocobra/metabolic/models/iML1515_PKT.json\"\n",
    "model_path = \"/media/frek/Storage1/projects/personal/chemocobra/static/chemocobra/metabolic/models/iML1515.json\"\n",
    "model_pkt = cobra.io.load_json_model(model_pkt_path)\n",
    "model = cobra.io.load_json_model(model_path)"
   ]
  },
  {
   "cell_type": "code",
   "execution_count": 3,
   "metadata": {},
   "outputs": [
    {
     "name": "stdout",
     "output_type": "stream",
     "text": [
      "EX_acetone\n"
     ]
    }
   ],
   "source": [
    "for r in model.reactions:\n",
    "    if \"acetone\" in r.id.lower():\n",
    "        print(r.id)"
   ]
  },
  {
   "cell_type": "code",
   "execution_count": 36,
   "metadata": {},
   "outputs": [],
   "source": [
    "scen = {\n",
    "    \"bm-wt\": {\"objective\": \"BIOMASS_Ec_iML1515_WT_75p37M\", \"ko\": [\"DRPA\", \"PAI2I\"], \"modelpath\": model_path},\n",
    "    \"acetone-wt\": {\"objective\": \"EX_acetone\", \"ko\": [\"DRPA\", \"F6PA\", \"PAI2I\", \"PPC\", \"PGL\"], \"modelpath\": model_path},\n",
    "    \"bm-pkt\": {\"objective\": \"BIOMASS_Ec_iML1515_WT_75p37M\", \"ko\": [\"DRPA\"], \"modelpath\": model_pkt_path},\n",
    "    \"acetone-pkt\": {\"objective\": \"EX_acetone\", \"ko\": [\"DRPA\", \"PPC\", \"F6PA\"], 'modelpath': model_pkt_path}, \n",
    "}"
   ]
  },
  {
   "cell_type": "code",
   "execution_count": 37,
   "metadata": {},
   "outputs": [],
   "source": [
    "fluxes = {}\n",
    "for s in scen:\n",
    "    outpath = '/media/frek/Storage1/projects/personal/main/static/main/science/modelling/fluxes_pFBA_{}.json'.format(s)\n",
    "    model = cobra.io.load_json_model(scen[s][\"modelpath\"])\n",
    "    model.objective = scen[s][\"objective\"]\n",
    "    for r_id in scen[s][\"ko\"]:\n",
    "        r = model.reactions.get_by_id(r_id)\n",
    "        r.lower_bound = 0\n",
    "        r.upper_bound = 0\n",
    "    fluxes[s] = cobra.flux_analysis.parsimonious.pfba(model).fluxes\n",
    "    fluxes[s].loc[fluxes[s].abs()<0.01] = 0\n",
    "    with open(outpath, 'w') as f:\n",
    "        json.dump(fluxes[s].to_dict(), f)"
   ]
  },
  {
   "cell_type": "code",
   "execution_count": null,
   "metadata": {},
   "outputs": [],
   "source": []
  },
  {
   "cell_type": "code",
   "execution_count": null,
   "metadata": {},
   "outputs": [],
   "source": []
  },
  {
   "cell_type": "code",
   "execution_count": 15,
   "metadata": {},
   "outputs": [],
   "source": [
    "mapdir = \"/media/frek/Storage1/projects/personal/static/main/science/modelling/iML1515-Map_EM.json\"\n",
    "modeldir = \"/media/frek/Storage1/projects/personal/static/main/science/modelling/iML1515_PKT.json\"\n",
    "scen = \"\"\n",
    "builder = Builder(map_json=mapdir, model=model, reaction_data=)"
   ]
  },
  {
   "cell_type": "code",
   "execution_count": 16,
   "metadata": {},
   "outputs": [
    {
     "name": "stdout",
     "output_type": "stream",
     "text": [
      "\n",
      "Note: You must interrupt the kernel to end this command\n",
      "\n",
      "Serving to http://127.0.0.1:7655/\n",
      "[Ctrl-C to exit from terminal, or Ctrl-M i i to interrupt notebook kernel]\n"
     ]
    },
    {
     "name": "stderr",
     "output_type": "stream",
     "text": [
      "127.0.0.1 - - [25/Jan/2020 15:51:03] \"GET / HTTP/1.1\" 200 -\n"
     ]
    },
    {
     "name": "stdout",
     "output_type": "stream",
     "text": [
      "\n",
      "stopping Server...\n"
     ]
    }
   ],
   "source": [
    "builder.display_in_browser()"
   ]
  },
  {
   "cell_type": "code",
   "execution_count": null,
   "metadata": {},
   "outputs": [],
   "source": []
  }
 ],
 "metadata": {
  "kernelspec": {
   "display_name": "Python 3",
   "language": "python",
   "name": "python3"
  },
  "language_info": {
   "codemirror_mode": {
    "name": "ipython",
    "version": 3
   },
   "file_extension": ".py",
   "mimetype": "text/x-python",
   "name": "python",
   "nbconvert_exporter": "python",
   "pygments_lexer": "ipython3",
   "version": "3.6.8"
  }
 },
 "nbformat": 4,
 "nbformat_minor": 2
}
