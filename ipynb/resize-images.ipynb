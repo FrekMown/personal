{
 "cells": [
  {
   "cell_type": "code",
   "execution_count": 3,
   "metadata": {},
   "outputs": [],
   "source": [
    "from PIL import Image\n",
    "import os"
   ]
  },
  {
   "cell_type": "code",
   "execution_count": 7,
   "metadata": {},
   "outputs": [
    {
     "data": {
      "text/plain": [
       "['pic-12.jpg',\n",
       " 'pic-19.jpg',\n",
       " 'pic-9.jpg',\n",
       " 'pic-8.jpg',\n",
       " 'pic-21.jpg',\n",
       " 'pic-3.jpg',\n",
       " 'pic-1.jpg',\n",
       " 'pic-7.jpg',\n",
       " 'pic-18.jpg',\n",
       " 'pic-22.jpg',\n",
       " 'pic-4.jpg',\n",
       " 'pic-17.jpg',\n",
       " 'pic-2.jpg',\n",
       " 'pic-15.jpg',\n",
       " 'pic-11.jpg',\n",
       " 'pic-16.jpg',\n",
       " 'pic-10.jpg',\n",
       " 'pic-14.jpg',\n",
       " 'pic-6.jpg',\n",
       " 'pic-13.jpg',\n",
       " 'pic-20.jpg',\n",
       " 'pic-5.jpg']"
      ]
     },
     "execution_count": 7,
     "metadata": {},
     "output_type": "execute_result"
    }
   ],
   "source": [
    "BASE_DIR = '/'.join(os.getcwd().split('/')[:-1])+'/'\n",
    "PICS_DIR = os.path.join(BASE_DIR, 'main', 'static', 'main', 'photos')\n",
    "os.listdir(PICS_DIR)"
   ]
  },
  {
   "cell_type": "code",
   "execution_count": 12,
   "metadata": {},
   "outputs": [
    {
     "name": "stdout",
     "output_type": "stream",
     "text": [
      "pic-14.png 750 1000\n",
      "pic-12.jpg 3024 4032\n",
      "pic-2.png 750 1000\n",
      "pic-3.png 750 1000\n",
      "pic-16.png 750 1000\n",
      "pic-11.png 750 1000\n",
      "pic-19.jpg 3024 4032\n",
      "pic-7.png 750 1000\n",
      "pic-9.jpg 3024 4032\n",
      "pic-8.jpg 3024 4032\n",
      "pic-12.png 750 1000\n",
      "pic-21.png 750 1000\n",
      "pic-6.png 750 1000\n",
      "pic-21.jpg 768 1024\n",
      "pic-3.jpg 1536 2048\n",
      "pic-1.jpg 1944 2592\n",
      "pic-7.jpg 3024 4032\n",
      "pic-10.png 750 1000\n",
      "pic-18.jpg 3024 4032\n",
      "pic-22.jpg 3024 4032\n",
      "pic-5.png 750 1000\n",
      "pic-4.png 750 1000\n",
      "pic-4.jpg 1536 2048\n",
      "pic-17.jpg 1536 2048\n",
      "pic-13.png 750 1000\n",
      "pic-2.jpg 2736 3648\n",
      "pic-22.png 750 1000\n",
      "pic-20.png 750 1000\n",
      "pic-1.png 750 1000\n",
      "pic-8.png 750 1000\n",
      "pic-15.jpg 3024 4032\n",
      "pic-11.jpg 1536 2048\n",
      "pic-19.png 750 1000\n",
      "pic-16.jpg 3024 4032\n",
      "pic-10.jpg 1536 2048\n",
      "pic-15.png 750 1000\n",
      "pic-14.jpg 2736 3648\n",
      "pic-6.jpg 3024 4032\n",
      "pic-13.jpg 2736 3648\n",
      "pic-20.jpg 3024 4032\n",
      "pic-18.png 750 1000\n",
      "pic-5.jpg 1200 1600\n",
      "pic-9.png 750 1000\n",
      "pic-17.png 750 1000\n"
     ]
    }
   ],
   "source": [
    "max_size = (1000, 1000)\n",
    "for filename in os.listdir(PICS_DIR):\n",
    "    image = Image.open(os.path.join(PICS_DIR, filename))\n",
    "    print(filename, image.height, image.width)\n",
    "    image.thumbnail(max_size)\n",
    "    image.save(os.path.join(PICS_DIR,\"{}-v1.jpg\".format(filename.replace('.jpg', ''))))"
   ]
  },
  {
   "cell_type": "code",
   "execution_count": null,
   "metadata": {},
   "outputs": [],
   "source": []
  }
 ],
 "metadata": {
  "kernelspec": {
   "display_name": "Python 3",
   "language": "python",
   "name": "python3"
  },
  "language_info": {
   "codemirror_mode": {
    "name": "ipython",
    "version": 3
   },
   "file_extension": ".py",
   "mimetype": "text/x-python",
   "name": "python",
   "nbconvert_exporter": "python",
   "pygments_lexer": "ipython3",
   "version": "3.6.8"
  }
 },
 "nbformat": 4,
 "nbformat_minor": 2
}
