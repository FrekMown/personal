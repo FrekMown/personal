{
 "cells": [
  {
   "cell_type": "code",
   "execution_count": 19,
   "metadata": {},
   "outputs": [],
   "source": [
    "import os\n",
    "import re"
   ]
  },
  {
   "cell_type": "code",
   "execution_count": 5,
   "metadata": {},
   "outputs": [],
   "source": [
    "BASE_DIR = '/'.join(os.getcwd().split('/')[:-1])+'/'\n",
    "CSS_DIR = os.path.join(BASE_DIR, 'main', 'static', 'main', 'css')\n",
    "JS_DIR = os.path.join(BASE_DIR, 'main', 'static', 'main', 'js')\n",
    "HTML_DIR = os.path.join(BASE_DIR, 'main', 'templates', 'main')"
   ]
  },
  {
   "cell_type": "code",
   "execution_count": 33,
   "metadata": {},
   "outputs": [],
   "source": [
    "CSS_FILES = [\n",
    "   \"master.css\"\n",
    "]\n",
    "\n",
    "HTML_FILES = [\n",
    "    \"index.html\"\n",
    "]"
   ]
  },
  {
   "cell_type": "code",
   "execution_count": 40,
   "metadata": {},
   "outputs": [
    {
     "name": "stdout",
     "output_type": "stream",
     "text": [
      "  <link rel=\"stylesheet\" href=\"/main/static/main/css/master~v0.css\">\n",
      "\n",
      "0\n"
     ]
    }
   ],
   "source": [
    "# Open html-file-dev.html and write html-file.html\n",
    "for filedir in [os.path.join(HTML_DIR,f.replace('.html', '')+'-dev.html') for f in HTML_FILES]:\n",
    "    new_lines = []\n",
    "    with open(filedir, \"r\") as f:\n",
    "        for line in f:\n",
    "            if \"<link\" in line and \"href=\" in line and \".css\" in line:\n",
    "                href = [l for l in line.split() if \"href=\" in l][0]\n",
    "                names_no_version = re.findall(r'/([A-Za-z]+)~v[0-9]+',  href)\n",
    "                if len(names_no_version)>0:\n",
    "                    if names_no_version[0]+\".css\" in CSS_FILES:\n",
    "                        # Finally I am in a good line\n",
    "                        print(line)\n",
    "                        version = int(re.findall(r'~v([0-9]+)', line)[0])\n",
    "                        print(version)\n",
    "                        # Create new version\n",
    "                        new_version = version + 1\n",
    "                        # Create version of original \n",
    "                        "
   ]
  },
  {
   "cell_type": "code",
   "execution_count": 69,
   "metadata": {},
   "outputs": [
    {
     "data": {
      "text/plain": [
       "['/main/static/main/css/master.css']"
      ]
     },
     "execution_count": 69,
     "metadata": {},
     "output_type": "execute_result"
    }
   ],
   "source": [
    "re.findall(r'[\\S]+', \"/main/static/main/css/master.css\")"
   ]
  },
  {
   "cell_type": "code",
   "execution_count": 81,
   "metadata": {},
   "outputs": [
    {
     "name": "stdout",
     "output_type": "stream",
     "text": [
      "master.css\n",
      "/media/frek/Storage1/projects/personal/main/templates/main/index-dev.html\n"
     ]
    }
   ],
   "source": [
    "for cssfile in CSS_FILES:\n",
    "    app_name = HTML_DIR.split('/')[-1]\n",
    "    print(cssfile)\n",
    "    # get latest version\n",
    "    pattern_version = r'{}~v([0-9]+)'.format(cssfile.split('.')[0])\n",
    "    # Get the latest version of file\n",
    "    versions = [int(re.findall(pattern_version, f)[0]) for f in os.listdir(os.path.join(CSS_DIR)) if re.match(pattern_version, f) is not None]\n",
    "    new_version = max(versions)+1    \n",
    "    new_filename = '{}~v{}.css'.format(cssfile.split('.')[0], new_version)\n",
    "    os.system(\"cp {} {}\".format(os.path.join(CSS_DIR, cssfile), os.path.join(CSS_DIR, new_filename)))\n",
    "    new_filedir_html = os.path.join('/static', app_name, \"css\", new_filename)\n",
    "    # Change name in HTML files\n",
    "    for htmlfile in HTML_FILES:\n",
    "        htmlfile_dev = '{}-dev.html'.format(htmlfile.split('.')[0])\n",
    "        print(htmlfile_dev)\n",
    "        patt_css_name = r'/[\\S]+/{}'.format(cssfile)\n",
    "        # write new file\n",
    "        with open(os.path.join(HTML_DIR, htmlfile_dev)) as f:            \n",
    "            new_file = re.sub(patt_css_name, new_filedir_html, f.read())\n",
    "        with open(os.path.join(HTML_DIR, htmlfile), 'w') as f:\n",
    "            f.write(new_file)"
   ]
  },
  {
   "cell_type": "code",
   "execution_count": 61,
   "metadata": {},
   "outputs": [
    {
     "data": {
      "text/plain": [
       "'/media/frek/Storage1/projects/personal/main/templates/main'"
      ]
     },
     "execution_count": 61,
     "metadata": {},
     "output_type": "execute_result"
    }
   ],
   "source": [
    "HTML_DIR"
   ]
  },
  {
   "cell_type": "code",
   "execution_count": null,
   "metadata": {},
   "outputs": [],
   "source": []
  },
  {
   "cell_type": "code",
   "execution_count": 13,
   "metadata": {},
   "outputs": [
    {
     "data": {
      "text/plain": [
       "['/media/frek/Storage1/projects/personal/main/static/main/css/master.css']"
      ]
     },
     "execution_count": 13,
     "metadata": {},
     "output_type": "execute_result"
    }
   ],
   "source": [
    "[f.split(\"/\") for f in CSS_FILES]"
   ]
  },
  {
   "cell_type": "code",
   "execution_count": 12,
   "metadata": {},
   "outputs": [],
   "source": [
    "files_to_version = [\"main.css\", \"chartist-plot.css\", \"escher-viz.css\", \"substr-viz.css\"]"
   ]
  },
  {
   "cell_type": "code",
   "execution_count": null,
   "metadata": {},
   "outputs": [],
   "source": [
    "def get_old_version():\n",
    "    "
   ]
  }
 ],
 "metadata": {
  "kernelspec": {
   "display_name": "Python 3",
   "language": "python",
   "name": "python3"
  },
  "language_info": {
   "codemirror_mode": {
    "name": "ipython",
    "version": 3
   },
   "file_extension": ".py",
   "mimetype": "text/x-python",
   "name": "python",
   "nbconvert_exporter": "python",
   "pygments_lexer": "ipython3",
   "version": "3.6.8"
  }
 },
 "nbformat": 4,
 "nbformat_minor": 2
}
