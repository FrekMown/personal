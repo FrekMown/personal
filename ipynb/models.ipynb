{
 "cells": [
  {
   "cell_type": "code",
   "execution_count": 60,
   "metadata": {},
   "outputs": [],
   "source": [
    "import cobra\n",
    "import os\n",
    "import json"
   ]
  },
  {
   "cell_type": "code",
   "execution_count": 55,
   "metadata": {},
   "outputs": [],
   "source": [
    "BASE_DIR = '/'.join(os.getcwd().split('/')[:-1])\n",
    "MODELS_DIR = os.path.join(BASE_DIR, 'chemocobra', 'static', 'chemocobra', 'metabolic', 'models')\n",
    "MAPS_DIR = os.path.join(BASE_DIR, 'chemocobra', 'static', 'chemocobra', 'metabolic', 'maps')"
   ]
  },
  {
   "cell_type": "code",
   "execution_count": 56,
   "metadata": {},
   "outputs": [
    {
     "data": {
      "text/plain": [
       "['Homo Sapiens - RECON1.json',\n",
       " 'Escherichia Coli PKT GBE - iML1515.json',\n",
       " 'Escherichia Coli MG1655 - iML1515.json',\n",
       " 'Saccharomyces Cerevisiae S288C - iMM904.json',\n",
       " 'Clostridium_Ljungdahlii - iHN637.json',\n",
       " '(old) Escherichia Coli MG1655 - iJO1366.json']"
      ]
     },
     "execution_count": 56,
     "metadata": {},
     "output_type": "execute_result"
    }
   ],
   "source": [
    "os.listdir(MODELS_DIR)"
   ]
  },
  {
   "cell_type": "code",
   "execution_count": 58,
   "metadata": {},
   "outputs": [],
   "source": [
    "model = cobra.io.load_json_model(os.path.join(MODELS_DIR, \"Escherichia Coli PKT GBE - iML1515.json\"))"
   ]
  },
  {
   "cell_type": "code",
   "execution_count": 59,
   "metadata": {},
   "outputs": [
    {
     "data": {
      "text/html": [
       "\n",
       "        <table>\n",
       "            <tr>\n",
       "                <td><strong>Name</strong></td>\n",
       "                <td>iML1515_PKT</td>\n",
       "            </tr><tr>\n",
       "                <td><strong>Memory address</strong></td>\n",
       "                <td>0x07fe793da5da0</td>\n",
       "            </tr><tr>\n",
       "                <td><strong>Number of metabolites</strong></td>\n",
       "                <td>1892</td>\n",
       "            </tr><tr>\n",
       "                <td><strong>Number of reactions</strong></td>\n",
       "                <td>2747</td>\n",
       "            </tr><tr>\n",
       "                <td><strong>Number of groups</strong></td>\n",
       "                <td>0</td>\n",
       "            </tr><tr>\n",
       "                <td><strong>Objective expression</strong></td>\n",
       "                <td>1.0*BIOMASS_Ec_iML1515_WT_75p37M - 1.0*BIOMASS_Ec_iML1515_WT_75p37M_reverse_c20dc</td>\n",
       "            </tr><tr>\n",
       "                <td><strong>Compartments</strong></td>\n",
       "                <td>cytosol, periplasm, extracellular space, </td>\n",
       "            </tr>\n",
       "          </table>"
      ],
      "text/plain": [
       "<Model iML1515_PKT at 0x7fe793da5da0>"
      ]
     },
     "execution_count": 59,
     "metadata": {},
     "output_type": "execute_result"
    }
   ],
   "source": [
    "model"
   ]
  },
  {
   "cell_type": "code",
   "execution_count": 61,
   "metadata": {},
   "outputs": [],
   "source": [
    "with open(os.path.join(MODELS_DIR, \"Escherichia Coli PKT GBE - iML1515.json\")) as f:\n",
    "    model_json = json.load(f)"
   ]
  },
  {
   "cell_type": "code",
   "execution_count": 63,
   "metadata": {},
   "outputs": [
    {
     "data": {
      "text/plain": [
       "dict_keys(['metabolites', 'reactions', 'genes', 'id', 'name', 'compartments', 'version'])"
      ]
     },
     "execution_count": 63,
     "metadata": {},
     "output_type": "execute_result"
    }
   ],
   "source": [
    "model_json.keys()"
   ]
  },
  {
   "cell_type": "code",
   "execution_count": 66,
   "metadata": {},
   "outputs": [
    {
     "data": {
      "text/plain": [
       "[{'id': 'BIOMASS_Ec_iML1515_WT_75p37M',\n",
       "  'name': 'E. coli biomass objective function (iML1515) - WT - with 75.37 GAM estimate',\n",
       "  'metabolites': {'10fthf_c': -0.000223,\n",
       "   '2dmmql8_c': -0.000223,\n",
       "   '2fe2s_c': -2.5e-05,\n",
       "   '4fe4s_c': -0.000248,\n",
       "   '5mthf_c': -0.000223,\n",
       "   'accoa_c': -0.000279,\n",
       "   'adocbl_c': -0.000223,\n",
       "   'adp_c': 75.37723,\n",
       "   'ala__L_c': -0.499149,\n",
       "   'amet_c': -0.000223,\n",
       "   'arg__L_c': -0.28742,\n",
       "   'asn__L_c': -0.234232,\n",
       "   'asp__L_c': -0.234232,\n",
       "   'atp_c': -75.55223,\n",
       "   'btn_c': -2e-06,\n",
       "   'ca2_c': -0.004952,\n",
       "   'chor_c': -0.000223,\n",
       "   'cl_c': -0.004952,\n",
       "   'clpn160_p': -0.002944,\n",
       "   'clpn161_p': -0.00229,\n",
       "   'clpn181_p': -0.00118,\n",
       "   'coa_c': -0.000168,\n",
       "   'cobalt2_c': -2.4e-05,\n",
       "   'colipa_e': -0.008151,\n",
       "   'ctp_c': -0.129799,\n",
       "   'cu2_c': -0.000674,\n",
       "   'cys__L_c': -0.088988,\n",
       "   'datp_c': -0.024805,\n",
       "   'dctp_c': -0.025612,\n",
       "   'dgtp_c': -0.025612,\n",
       "   'dttp_c': -0.024805,\n",
       "   'enter_c': -0.000223,\n",
       "   'fad_c': -0.000223,\n",
       "   'fe2_c': -0.006388,\n",
       "   'fe3_c': -0.007428,\n",
       "   'gln__L_c': -0.255712,\n",
       "   'glu__L_c': -0.255712,\n",
       "   'gly_c': -0.595297,\n",
       "   'glycogen_c': -0.154187,\n",
       "   'gthrd_c': -0.000223,\n",
       "   'gtp_c': -0.209121,\n",
       "   'h2o_c': -70.028756,\n",
       "   'h_c': 75.37723,\n",
       "   'hemeO_c': -0.000223,\n",
       "   'his__L_c': -0.092056,\n",
       "   'ile__L_c': -0.282306,\n",
       "   'k_c': -0.18569,\n",
       "   'leu__L_c': -0.437778,\n",
       "   'lipopb_c': -3e-06,\n",
       "   'lys__L_c': -0.333448,\n",
       "   'malcoa_c': -3.1e-05,\n",
       "   'met__L_c': -0.149336,\n",
       "   'mg2_c': -0.008253,\n",
       "   'mlthf_c': -0.000223,\n",
       "   'mn2_c': -0.000658,\n",
       "   'mobd_c': -7e-06,\n",
       "   'mococdp_c': -7e-06,\n",
       "   'mocogdp_c': -7e-06,\n",
       "   'mql8_c': -0.000223,\n",
       "   'murein3p3p_p': -0.001345,\n",
       "   'murein3px4p_p': -0.000605,\n",
       "   'murein4p4p_p': -0.005381,\n",
       "   'murein4px4p_p': -0.005448,\n",
       "   'murein4px4px4p_p': -0.000673,\n",
       "   'nad_c': -0.001787,\n",
       "   'nadh_c': -4.5e-05,\n",
       "   'nadp_c': -0.000112,\n",
       "   'nadph_c': -0.000335,\n",
       "   'nh4_c': -0.012379,\n",
       "   'ni2_c': -0.000307,\n",
       "   'pe160_p': -0.044164,\n",
       "   'pe161_p': -0.03435,\n",
       "   'pe181_p': -0.017704,\n",
       "   'pg160_p': -0.010599,\n",
       "   'pg161_p': -0.008244,\n",
       "   'pg181_p': -0.004249,\n",
       "   'phe__L_c': -0.180021,\n",
       "   'pheme_c': -0.000223,\n",
       "   'pi_c': 75.37323,\n",
       "   'ppi_c': 0.749831,\n",
       "   'pro__L_c': -0.214798,\n",
       "   'ptrc_c': -0.03327,\n",
       "   'pydx5p_c': -0.000223,\n",
       "   'q8h2_c': -0.000223,\n",
       "   'ribflv_c': -0.000223,\n",
       "   'ser__L_c': -0.209684,\n",
       "   'sheme_c': -0.000223,\n",
       "   'so4_c': -0.004126,\n",
       "   'spmd_c': -0.006744,\n",
       "   'succoa_c': -9.8e-05,\n",
       "   'thf_c': -0.000223,\n",
       "   'thmpp_c': -0.000223,\n",
       "   'thr__L_c': -0.246506,\n",
       "   'trp__L_c': -0.055234,\n",
       "   'tyr__L_c': -0.133993,\n",
       "   'udcpdp_c': -5.5e-05,\n",
       "   'utp_c': -0.140101,\n",
       "   'val__L_c': -0.411184,\n",
       "   'zn2_c': -0.000324},\n",
       "  'lower_bound': 0.0,\n",
       "  'upper_bound': 1000.0,\n",
       "  'gene_reaction_rule': '',\n",
       "  'objective_coefficient': 1.0}]"
      ]
     },
     "execution_count": 66,
     "metadata": {},
     "output_type": "execute_result"
    }
   ],
   "source": [
    "[r for r in model_json['reactions'] if \"objective_coefficient\" in r and r[\"objective_coefficient\"] != 0]"
   ]
  },
  {
   "cell_type": "code",
   "execution_count": null,
   "metadata": {},
   "outputs": [],
   "source": []
  },
  {
   "cell_type": "code",
   "execution_count": null,
   "metadata": {},
   "outputs": [],
   "source": []
  },
  {
   "cell_type": "code",
   "execution_count": null,
   "metadata": {},
   "outputs": [],
   "source": []
  },
  {
   "cell_type": "code",
   "execution_count": null,
   "metadata": {},
   "outputs": [],
   "source": []
  },
  {
   "cell_type": "code",
   "execution_count": null,
   "metadata": {},
   "outputs": [],
   "source": []
  },
  {
   "cell_type": "code",
   "execution_count": null,
   "metadata": {},
   "outputs": [],
   "source": []
  },
  {
   "cell_type": "code",
   "execution_count": null,
   "metadata": {},
   "outputs": [],
   "source": []
  },
  {
   "cell_type": "code",
   "execution_count": null,
   "metadata": {},
   "outputs": [],
   "source": []
  }
 ],
 "metadata": {
  "kernelspec": {
   "display_name": "Python 3",
   "language": "python",
   "name": "python3"
  },
  "language_info": {
   "codemirror_mode": {
    "name": "ipython",
    "version": 3
   },
   "file_extension": ".py",
   "mimetype": "text/x-python",
   "name": "python",
   "nbconvert_exporter": "python",
   "pygments_lexer": "ipython3",
   "version": "3.6.8"
  }
 },
 "nbformat": 4,
 "nbformat_minor": 2
}
