{
 "cells": [
  {
   "cell_type": "code",
   "execution_count": 1,
   "metadata": {},
   "outputs": [],
   "source": [
    "import pandas as pd\n",
    "import numpy as np\n",
    "%matplotlib inline\n",
    "import matplotlib.pyplot as plt\n",
    "import json"
   ]
  },
  {
   "cell_type": "code",
   "execution_count": 2,
   "metadata": {},
   "outputs": [],
   "source": [
    "def curve(x, n, noise=False):\n",
    "    coeff = -1*n if x>0 else n\n",
    "    value = coeff*np.sqrt(x**2 - x**4)\n",
    "    if noise:\n",
    "        return value + 0.1*np.random.randn()\n",
    "    return value"
   ]
  },
  {
   "cell_type": "code",
   "execution_count": 9,
   "metadata": {},
   "outputs": [
    {
     "data": {
      "text/plain": [
       "array([-1. , -0.8, -0.6, -0.4, -0.2, -0. ,  0.2,  0.4,  0.6,  0.8,  1. ])"
      ]
     },
     "execution_count": 9,
     "metadata": {},
     "output_type": "execute_result"
    }
   ],
   "source": [
    "np.arange(-1, 1.2, 0.2).round(2)"
   ]
  },
  {
   "cell_type": "code",
   "execution_count": 12,
   "metadata": {},
   "outputs": [],
   "source": []
  },
  {
   "cell_type": "code",
   "execution_count": 25,
   "metadata": {},
   "outputs": [
    {
     "data": {
      "text/html": [
       "<div>\n",
       "<style scoped>\n",
       "    .dataframe tbody tr th:only-of-type {\n",
       "        vertical-align: middle;\n",
       "    }\n",
       "\n",
       "    .dataframe tbody tr th {\n",
       "        vertical-align: top;\n",
       "    }\n",
       "\n",
       "    .dataframe thead th {\n",
       "        text-align: right;\n",
       "    }\n",
       "</style>\n",
       "<table border=\"1\" class=\"dataframe\">\n",
       "  <thead>\n",
       "    <tr style=\"text-align: right;\">\n",
       "      <th></th>\n",
       "      <th>line1</th>\n",
       "      <th>line2</th>\n",
       "    </tr>\n",
       "    <tr>\n",
       "      <th>x</th>\n",
       "      <th></th>\n",
       "      <th></th>\n",
       "    </tr>\n",
       "  </thead>\n",
       "  <tbody>\n",
       "    <tr>\n",
       "      <th>-1.00</th>\n",
       "      <td>0.000</td>\n",
       "      <td>-0.000</td>\n",
       "    </tr>\n",
       "    <tr>\n",
       "      <th>-0.97</th>\n",
       "      <td>0.236</td>\n",
       "      <td>-0.236</td>\n",
       "    </tr>\n",
       "    <tr>\n",
       "      <th>-0.95</th>\n",
       "      <td>0.297</td>\n",
       "      <td>-0.297</td>\n",
       "    </tr>\n",
       "    <tr>\n",
       "      <th>-0.90</th>\n",
       "      <td>0.392</td>\n",
       "      <td>-0.392</td>\n",
       "    </tr>\n",
       "    <tr>\n",
       "      <th>-0.85</th>\n",
       "      <td>0.448</td>\n",
       "      <td>-0.448</td>\n",
       "    </tr>\n",
       "  </tbody>\n",
       "</table>\n",
       "</div>"
      ],
      "text/plain": [
       "       line1  line2\n",
       "x                  \n",
       "-1.00  0.000 -0.000\n",
       "-0.97  0.236 -0.236\n",
       "-0.95  0.297 -0.297\n",
       "-0.90  0.392 -0.392\n",
       "-0.85  0.448 -0.448"
      ]
     },
     "execution_count": 25,
     "metadata": {},
     "output_type": "execute_result"
    }
   ],
   "source": [
    "line_x = [-1, -0.97, -0.95, -0.9, -0.85 , -0.8, -0.7, -0.6, -0.4, -0.2, 0 ,  0.2,  0.4,  0.6, 0.7,  0.8, 0.85, 0.9, 0.95, 0.97, 1 ]\n",
    "data = pd.DataFrame(index=line_x)\n",
    "data.index.name = \"x\"\n",
    "x = data.index.to_series()\n",
    "data['line1'] = x.apply(lambda x: curve(x, 1)).fillna(0).round(3)\n",
    "data['line2'] = x.apply(lambda x: curve(x, -1)).fillna(0).round(3)\n",
    "\n",
    "outpath = \"/media/frek/Storage1/projects/personal/main/static/main/science/{}.json\"\n",
    "\n",
    "with open(outpath.format(\"plot_line_1\"), 'w') as f:\n",
    "    json.dump(data.reset_index()[['x', 'line1']].rename(columns={\"line1\": \"y\"}).to_dict(orient=\"records\"), f)\n",
    "with open(outpath.format(\"plot_line_2\"), 'w') as f:\n",
    "    json.dump(data.reset_index()[['x', 'line2']].rename(columns={\"line2\": \"y\"}).to_dict(orient=\"records\"), f)\n",
    "    \n",
    "data.head()"
   ]
  },
  {
   "cell_type": "code",
   "execution_count": 24,
   "metadata": {},
   "outputs": [
    {
     "data": {
      "text/html": [
       "<div>\n",
       "<style scoped>\n",
       "    .dataframe tbody tr th:only-of-type {\n",
       "        vertical-align: middle;\n",
       "    }\n",
       "\n",
       "    .dataframe tbody tr th {\n",
       "        vertical-align: top;\n",
       "    }\n",
       "\n",
       "    .dataframe thead th {\n",
       "        text-align: right;\n",
       "    }\n",
       "</style>\n",
       "<table border=\"1\" class=\"dataframe\">\n",
       "  <thead>\n",
       "    <tr style=\"text-align: right;\">\n",
       "      <th></th>\n",
       "      <th>noise1</th>\n",
       "      <th>noise2</th>\n",
       "      <th>noise</th>\n",
       "    </tr>\n",
       "    <tr>\n",
       "      <th>x</th>\n",
       "      <th></th>\n",
       "      <th></th>\n",
       "      <th></th>\n",
       "    </tr>\n",
       "  </thead>\n",
       "  <tbody>\n",
       "    <tr>\n",
       "      <th>-0.74</th>\n",
       "      <td>0.471</td>\n",
       "      <td>-0.652</td>\n",
       "      <td>0.471</td>\n",
       "    </tr>\n",
       "    <tr>\n",
       "      <th>-0.86</th>\n",
       "      <td>0.370</td>\n",
       "      <td>-0.384</td>\n",
       "      <td>-0.384</td>\n",
       "    </tr>\n",
       "    <tr>\n",
       "      <th>-0.78</th>\n",
       "      <td>0.357</td>\n",
       "      <td>-0.347</td>\n",
       "      <td>0.357</td>\n",
       "    </tr>\n",
       "    <tr>\n",
       "      <th>0.59</th>\n",
       "      <td>-0.470</td>\n",
       "      <td>0.452</td>\n",
       "      <td>-0.470</td>\n",
       "    </tr>\n",
       "    <tr>\n",
       "      <th>0.85</th>\n",
       "      <td>-0.454</td>\n",
       "      <td>0.483</td>\n",
       "      <td>0.483</td>\n",
       "    </tr>\n",
       "  </tbody>\n",
       "</table>\n",
       "</div>"
      ],
      "text/plain": [
       "       noise1  noise2  noise\n",
       "x                           \n",
       "-0.74   0.471  -0.652  0.471\n",
       "-0.86   0.370  -0.384 -0.384\n",
       "-0.78   0.357  -0.347  0.357\n",
       " 0.59  -0.470   0.452 -0.470\n",
       " 0.85  -0.454   0.483  0.483"
      ]
     },
     "execution_count": 24,
     "metadata": {},
     "output_type": "execute_result"
    }
   ],
   "source": [
    "# Create noise\n",
    "data_noise = pd.DataFrame(index=np.random.uniform(-1, 1, 80).round(2))\n",
    "data_noise.index.name=\"x\"\n",
    "x = data_noise.index.to_series()\n",
    "data_noise['noise1'] = x.apply(lambda x: curve(x, 1, True)).fillna(0).round(3)\n",
    "data_noise['noise2'] = x.apply(lambda x: curve(x, -1, True)).fillna(0).round(3)\n",
    "\n",
    "# choose randomly from one \n",
    "data_noise['noise'] = [data_noise.iloc[counter, np.random.randint(0, 2)] for counter in range(len(data_noise))]\n",
    "\n",
    "# Save JSON\n",
    "with open(outpath.format('plot_noise'), 'w') as f:\n",
    "    json.dump(data_noise.reset_index()[['x', 'noise']].rename(columns={\"noise\": \"y\"}).to_dict(orient=\"records\"), f)\n",
    "data_noise.head()"
   ]
  },
  {
   "cell_type": "code",
   "execution_count": 171,
   "metadata": {},
   "outputs": [],
   "source": []
  },
  {
   "cell_type": "code",
   "execution_count": null,
   "metadata": {},
   "outputs": [],
   "source": []
  },
  {
   "cell_type": "code",
   "execution_count": null,
   "metadata": {},
   "outputs": [],
   "source": []
  }
 ],
 "metadata": {
  "kernelspec": {
   "display_name": "Python 3",
   "language": "python",
   "name": "python3"
  },
  "language_info": {
   "codemirror_mode": {
    "name": "ipython",
    "version": 3
   },
   "file_extension": ".py",
   "mimetype": "text/x-python",
   "name": "python",
   "nbconvert_exporter": "python",
   "pygments_lexer": "ipython3",
   "version": "3.6.8"
  }
 },
 "nbformat": 4,
 "nbformat_minor": 2
}
