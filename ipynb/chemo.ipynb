{
 "cells": [
  {
   "cell_type": "code",
   "execution_count": 6,
   "metadata": {},
   "outputs": [],
   "source": [
    "from rdkit import Chem\n",
    "from rdkit.Chem import Draw\n",
    "from rdkit.Chem.Draw import IPythonConsole\n",
    "from rdkit.Chem import AllChem\n",
    "import pandas as pd\n",
    "import cobra\n",
    "import json"
   ]
  },
  {
   "cell_type": "code",
   "execution_count": 7,
   "metadata": {},
   "outputs": [],
   "source": [
    "model = cobra.io.load_json_model(\"/media/frek/Storage1/projects/personal/static/chemocobra/metabolic/models/iML1515_PKT.json\")"
   ]
  },
  {
   "cell_type": "code",
   "execution_count": 8,
   "metadata": {},
   "outputs": [],
   "source": [
    "mets = set(['_'.join(m.id.split('_')[:-1]) for m in model.metabolites])"
   ]
  },
  {
   "cell_type": "code",
   "execution_count": 9,
   "metadata": {},
   "outputs": [
    {
     "name": "stdout",
     "output_type": "stream",
     "text": [
      "(1052, 3)\n"
     ]
    },
    {
     "data": {
      "text/html": [
       "<div>\n",
       "<style scoped>\n",
       "    .dataframe tbody tr th:only-of-type {\n",
       "        vertical-align: middle;\n",
       "    }\n",
       "\n",
       "    .dataframe tbody tr th {\n",
       "        vertical-align: top;\n",
       "    }\n",
       "\n",
       "    .dataframe thead th {\n",
       "        text-align: right;\n",
       "    }\n",
       "</style>\n",
       "<table border=\"1\" class=\"dataframe\">\n",
       "  <thead>\n",
       "    <tr style=\"text-align: right;\">\n",
       "      <th></th>\n",
       "      <th>name</th>\n",
       "      <th>MNX</th>\n",
       "      <th>smiles_ok</th>\n",
       "    </tr>\n",
       "    <tr>\n",
       "      <th>universal_bigg_id</th>\n",
       "      <th></th>\n",
       "      <th></th>\n",
       "      <th></th>\n",
       "    </tr>\n",
       "  </thead>\n",
       "  <tbody>\n",
       "    <tr>\n",
       "      <th>ca2</th>\n",
       "      <td>Calcium</td>\n",
       "      <td>MNXM128</td>\n",
       "      <td>[Ca]</td>\n",
       "    </tr>\n",
       "    <tr>\n",
       "      <th>2agpe120</th>\n",
       "      <td>2-Acyl-sn-glycero-3-phosphoethanolamine (n-C12:0)</td>\n",
       "      <td>MNXM34808</td>\n",
       "      <td>CCCCCCCCCCCC(=O)O[C@H](CO)COP(=O)(O)OCCN</td>\n",
       "    </tr>\n",
       "    <tr>\n",
       "      <th>sl26da</th>\n",
       "      <td>N-Succinyl-LL-2,6-diaminoheptanedioate</td>\n",
       "      <td>MNXM1488</td>\n",
       "      <td>N[C@@H](CCC[C@H](N=C(O)CCC(=O)O)C(=O)O)C(=O)O</td>\n",
       "    </tr>\n",
       "    <tr>\n",
       "      <th>2doxg6p</th>\n",
       "      <td>2 Deoxy D glucose 6 phosphate C6H11O8P</td>\n",
       "      <td>MNXM3809</td>\n",
       "      <td>O=P(O)(O)OC[C@H]1OC(O)C[C@@H](O)[C@@H]1O</td>\n",
       "    </tr>\n",
       "    <tr>\n",
       "      <th>imacp</th>\n",
       "      <td>3-(Imidazol-4-yl)-2-oxopropyl phosphate</td>\n",
       "      <td>MNXM1456</td>\n",
       "      <td>O=C(COP(=O)(O)O)Cc1cnc[nH]1</td>\n",
       "    </tr>\n",
       "  </tbody>\n",
       "</table>\n",
       "</div>"
      ],
      "text/plain": [
       "                                                                name  \\\n",
       "universal_bigg_id                                                      \n",
       "ca2                                                          Calcium   \n",
       "2agpe120           2-Acyl-sn-glycero-3-phosphoethanolamine (n-C12:0)   \n",
       "sl26da                        N-Succinyl-LL-2,6-diaminoheptanedioate   \n",
       "2doxg6p                       2 Deoxy D glucose 6 phosphate C6H11O8P   \n",
       "imacp                        3-(Imidazol-4-yl)-2-oxopropyl phosphate   \n",
       "\n",
       "                         MNX                                      smiles_ok  \n",
       "universal_bigg_id                                                            \n",
       "ca2                  MNXM128                                           [Ca]  \n",
       "2agpe120           MNXM34808       CCCCCCCCCCCC(=O)O[C@H](CO)COP(=O)(O)OCCN  \n",
       "sl26da              MNXM1488  N[C@@H](CCC[C@H](N=C(O)CCC(=O)O)C(=O)O)C(=O)O  \n",
       "2doxg6p             MNXM3809       O=P(O)(O)OC[C@H]1OC(O)C[C@@H](O)[C@@H]1O  \n",
       "imacp               MNXM1456                    O=C(COP(=O)(O)O)Cc1cnc[nH]1  "
      ]
     },
     "execution_count": 9,
     "metadata": {},
     "output_type": "execute_result"
    }
   ],
   "source": [
    "structs_dir = \"/media/frek/Storage1/projects/personal/static/chemocobra/metabolic/met_bigg_structs_mnx.csv\"\n",
    "df_structs = pd.read_csv(structs_dir, index_col=0)\n",
    "df_structs = df_structs.reindex(list(mets)).dropna(subset=['smiles_ok'])\n",
    "print(df_structs.shape)\n",
    "df_structs.head()"
   ]
  },
  {
   "cell_type": "code",
   "execution_count": 10,
   "metadata": {},
   "outputs": [
    {
     "name": "stdout",
     "output_type": "stream",
     "text": [
      "1052\n"
     ]
    },
    {
     "name": "stderr",
     "output_type": "stream",
     "text": [
      "RDKit WARNING: [11:06:08] WARNING: not removing hydrogen atom without neighbors\n",
      "RDKit WARNING: [11:06:08] WARNING: not removing hydrogen atom without neighbors\n"
     ]
    }
   ],
   "source": [
    "mols = {m_id : Chem.MolFromSmiles(df_structs.loc[m_id, 'smiles_ok']) for m_id in df_structs.index}\n",
    "print(len(mols))"
   ]
  },
  {
   "cell_type": "code",
   "execution_count": 11,
   "metadata": {},
   "outputs": [
    {
     "data": {
      "image/png": "[encoded data removed]",
      "text/plain": [
       "<rdkit.Chem.rdchem.Mol at 0x7f616542c3f0>"
      ]
     },
     "execution_count": 11,
     "metadata": {},
     "output_type": "execute_result"
    }
   ],
   "source": [
    "mols['dhna']"
   ]
  },
  {
   "cell_type": "code",
   "execution_count": 12,
   "metadata": {},
   "outputs": [
    {
     "data": {
      "image/png": "[encoded data removed]",
      "text/plain": [
       "<rdkit.Chem.rdchem.Mol at 0x7f616622af30>"
      ]
     },
     "execution_count": 12,
     "metadata": {},
     "output_type": "execute_result"
    }
   ],
   "source": [
    "substr = Chem.MolFromSmiles(\"N=C(N)N\")\n",
    "substr"
   ]
  },
  {
   "cell_type": "code",
   "execution_count": 13,
   "metadata": {},
   "outputs": [],
   "source": [
    "mols_substr = [m_id for m_id in mols if mols[m_id].HasSubstructMatch(substr)]"
   ]
  },
  {
   "cell_type": "code",
   "execution_count": 14,
   "metadata": {},
   "outputs": [
    {
     "data": {
      "text/plain": [
       "['fpram', 'argsuc', 'sucarg', 'arg__L', 'agm']"
      ]
     },
     "execution_count": 14,
     "metadata": {},
     "output_type": "execute_result"
    }
   ],
   "source": [
    "mols_substr"
   ]
  },
  {
   "cell_type": "code",
   "execution_count": 25,
   "metadata": {},
   "outputs": [],
   "source": [
    "# Save matches\n",
    "outpath = \"/media/frek/Storage1/projects/personal/main/static/main/science/substr/data_substr.json\"\n",
    "data_substr = { m_id: {\"name\": df_structs.loc[m_id, \"name\"], \"match\": list(mols[m_id].GetSubstructMatch(substr))} for m_id in mols_substr}\n",
    "\n",
    "with open(outpath, \"w\") as f:\n",
    "    json.dump(data_substr, f)"
   ]
  },
  {
   "cell_type": "markdown",
   "metadata": {},
   "source": [
    "### Save molecules"
   ]
  },
  {
   "cell_type": "code",
   "execution_count": 27,
   "metadata": {},
   "outputs": [],
   "source": [
    "hmols = {m_id: Chem.AddHs(mols[m_id]) for m_id in mols_substr}\n",
    "hmols['substr'] = substr"
   ]
  },
  {
   "cell_type": "code",
   "execution_count": 28,
   "metadata": {},
   "outputs": [
    {
     "name": "stdout",
     "output_type": "stream",
     "text": [
      "0\n",
      "0\n",
      "0\n",
      "0\n",
      "0\n",
      "0\n"
     ]
    }
   ],
   "source": [
    "for m_id in hmols:\n",
    "    AllChem.EmbedMolecule(hmols[m_id])\n",
    "    print(AllChem.UFFOptimizeMolecule(hmols[m_id], 1000))"
   ]
  },
  {
   "cell_type": "code",
   "execution_count": 29,
   "metadata": {},
   "outputs": [],
   "source": [
    "outpath = \"/media/frek/Storage1/projects/personal/main/static/main/science/substr/{}.sdf\"\n",
    "for m_id in hmols:\n",
    "    writer = Chem.SDWriter(outpath.format(m_id))\n",
    "    if m_id != \"substr\":\n",
    "        hmols[m_id].SetProp(\"__Name\", df_structs.loc[m_id, 'name'])\n",
    "    writer.write(hmols[m_id])\n",
    "    writer.close()"
   ]
  },
  {
   "cell_type": "code",
   "execution_count": null,
   "metadata": {},
   "outputs": [],
   "source": []
  },
  {
   "cell_type": "code",
   "execution_count": null,
   "metadata": {},
   "outputs": [],
   "source": []
  },
  {
   "cell_type": "code",
   "execution_count": 94,
   "metadata": {},
   "outputs": [
    {
     "data": {
      "image/png": "[encoded data removed]",
      "text/plain": [
       "<rdkit.Chem.rdchem.Mol at 0x7f8e43360a80>"
      ]
     },
     "execution_count": 94,
     "metadata": {},
     "output_type": "execute_result"
    }
   ],
   "source": [
    "mols[\"arg__L\"]"
   ]
  },
  {
   "cell_type": "code",
   "execution_count": 95,
   "metadata": {},
   "outputs": [
    {
     "data": {
      "image/png": "[encoded data removed]",
      "text/plain": [
       "<rdkit.Chem.rdchem.Mol at 0x7f8e41a7b8f0>"
      ]
     },
     "execution_count": 95,
     "metadata": {},
     "output_type": "execute_result"
    }
   ],
   "source": [
    "mols[\"fpram\"]"
   ]
  },
  {
   "cell_type": "code",
   "execution_count": 58,
   "metadata": {},
   "outputs": [
    {
     "data": {
      "image/png": "[encoded data removed]",
      "text/plain": [
       "<rdkit.Chem.rdchem.Mol at 0x7f8e41a60710>"
      ]
     },
     "execution_count": 58,
     "metadata": {},
     "output_type": "execute_result"
    }
   ],
   "source": [
    "mols[\"agm\"]"
   ]
  },
  {
   "cell_type": "code",
   "execution_count": null,
   "metadata": {},
   "outputs": [],
   "source": []
  },
  {
   "cell_type": "code",
   "execution_count": null,
   "metadata": {},
   "outputs": [],
   "source": []
  },
  {
   "cell_type": "code",
   "execution_count": 7,
   "metadata": {},
   "outputs": [],
   "source": [
    "mol = Chem.MolFromSmiles(\"C1C2C(C(S1)CCCCC(=O)O)NC(=O)N2\")"
   ]
  },
  {
   "cell_type": "code",
   "execution_count": 10,
   "metadata": {},
   "outputs": [
    {
     "data": {
      "image/png": "[encoded data removed]",
      "text/plain": [
       "<rdkit.Chem.rdchem.Mol at 0x7f78c47c4d00>"
      ]
     },
     "execution_count": 10,
     "metadata": {},
     "output_type": "execute_result"
    }
   ],
   "source": [
    "mol"
   ]
  },
  {
   "cell_type": "code",
   "execution_count": 11,
   "metadata": {},
   "outputs": [
    {
     "data": {
      "text/plain": [
       "0"
      ]
     },
     "execution_count": 11,
     "metadata": {},
     "output_type": "execute_result"
    }
   ],
   "source": [
    "AllChem.Compute2DCoords(mol)"
   ]
  },
  {
   "cell_type": "code",
   "execution_count": 13,
   "metadata": {},
   "outputs": [],
   "source": [
    "Chem.MolToMolFile(mol, \"/media/frek/Storage1/projects/personal/main/static/main/docs/biotin.mol\")"
   ]
  },
  {
   "cell_type": "code",
   "execution_count": null,
   "metadata": {},
   "outputs": [],
   "source": []
  }
 ],
 "metadata": {
  "kernelspec": {
   "display_name": "Python 3",
   "language": "python",
   "name": "python3"
  },
  "language_info": {
   "codemirror_mode": {
    "name": "ipython",
    "version": 3
   },
   "file_extension": ".py",
   "mimetype": "text/x-python",
   "name": "python",
   "nbconvert_exporter": "python",
   "pygments_lexer": "ipython3",
   "version": "3.6.8"
  }
 },
 "nbformat": 4,
 "nbformat_minor": 2
}
